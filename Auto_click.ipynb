{
 "cells": [
  {
   "cell_type": "code",
   "execution_count": null,
   "metadata": {},
   "outputs": [],
   "source": [
    "from win32gui import GetPixel,GetDC,GetActiveWindow\n",
    "from win32api import mouse_event\n",
    "from win32con import MOUSEEVENTF_LEFTDOWN,MOUSEEVENTF_LEFTUP\n",
    "\n",
    "while GetPixel(GetDC(GetActiveWindow()), 500 , 500) != 7002955:\n",
    "    pass\n",
    "mouse_event(MOUSEEVENTF_LEFTDOWN,500,500,0,0)\n",
    "mouse_event(MOUSEEVENTF_LEFTUP,500,500,0,0) "
   ]
  },
  {
   "cell_type": "code",
   "execution_count": 7,
   "metadata": {},
   "outputs": [
    {
     "name": "stdout",
     "output_type": "stream",
     "text": [
      "Coordonnées du clic de la souris - X: 959 Y: 948 Couleur: (132, 163, 211)\n",
      "Coordonnées du clic de la souris - X: 959 Y: 948 Couleur: (135, 167, 211)\n",
      "Coordonnées du clic de la souris - X: 959 Y: 948 Couleur: (119, 159, 209)\n",
      "Coordonnées du clic de la souris - X: 959 Y: 948 Couleur: (111, 154, 208)\n",
      "Coordonnées du clic de la souris - X: 959 Y: 948 Couleur: (109, 151, 208)\n",
      "Coordonnées du clic de la souris - X: 959 Y: 948 Couleur: (107, 147, 206)\n",
      "Coordonnées du clic de la souris - X: 959 Y: 948 Couleur: (99, 133, 197)\n",
      "Coordonnées du clic de la souris - X: 959 Y: 948 Couleur: (124, 161, 210)\n",
      "Coordonnées du clic de la souris - X: 959 Y: 948 Couleur: (111, 154, 208)\n",
      "Coordonnées du clic de la souris - X: 959 Y: 948 Couleur: (21, 31, 49)\n"
     ]
    }
   ],
   "source": [
    "import ctypes\n",
    "from pynput import mouse\n",
    "\n",
    "# Fonction pour récupérer la couleur du pixel aux coordonnées spécifiées\n",
    "def get_pixel_color(x, y):\n",
    "    hdc = ctypes.windll.user32.GetDC(ctypes.windll.user32.GetActiveWindow())\n",
    "    color = ctypes.windll.gdi32.GetPixel(hdc, x, y)\n",
    "    r = color & 0xff\n",
    "    g = (color >> 8) & 0xff\n",
    "    b = (color >> 16) & 0xff\n",
    "    return (r, g, b)\n",
    "\n",
    "# Gestionnaire d'événements pour le clic de la souris\n",
    "def on_click(x, y, button, pressed):\n",
    "    if pressed:\n",
    "        color = get_pixel_color(x, y)\n",
    "        print('Coordonnées du clic de la souris - X:', x, 'Y:', y, 'Couleur:', color)\n",
    "\n",
    "# Configurer le gestionnaire d'événements de la souris\n",
    "listener = mouse.Listener(on_click=on_click)\n",
    "\n",
    "# Démarrer le gestionnaire d'événements de la souris en arrière-plan\n",
    "listener.start()"
   ]
  },
  {
   "cell_type": "code",
   "execution_count": 6,
   "metadata": {},
   "outputs": [
    {
     "name": "stdout",
     "output_type": "stream",
     "text": [
      "(248, 239, 103)\n"
     ]
    }
   ],
   "source": [
    "from win32con import MOUSEEVENTF_LEFTDOWN,MOUSEEVENTF_LEFTUP\n",
    "import ctypes\n",
    "from win32api import mouse_event\n",
    "\n",
    "\n",
    "def get_pixel_color(x, y):\n",
    "    hdc = ctypes.windll.user32.GetDC(ctypes.windll.user32.GetActiveWindow())\n",
    "    color = ctypes.windll.gdi32.GetPixel(hdc, x, y)\n",
    "    r = color & 0xff\n",
    "    g = (color >> 8) & 0xff\n",
    "    b = (color >> 16) & 0xff\n",
    "    return (r, g, b)\n",
    "\n",
    "print(get_pixel_color(1579 , 968 ))\n",
    "while get_pixel_color(1629 , 930) == (248, 239, 103):\n",
    "    mouse_event(MOUSEEVENTF_LEFTDOWN,1579,930,0,0)\n",
    "    mouse_event(MOUSEEVENTF_LEFTUP,1579,930,0,0) "
   ]
  }
 ],
 "metadata": {
  "kernelspec": {
   "display_name": "Python 3",
   "language": "python",
   "name": "python3"
  },
  "language_info": {
   "codemirror_mode": {
    "name": "ipython",
    "version": 3
   },
   "file_extension": ".py",
   "mimetype": "text/x-python",
   "name": "python",
   "nbconvert_exporter": "python",
   "pygments_lexer": "ipython3",
   "version": "3.8.10"
  },
  "orig_nbformat": 4
 },
 "nbformat": 4,
 "nbformat_minor": 2
}
